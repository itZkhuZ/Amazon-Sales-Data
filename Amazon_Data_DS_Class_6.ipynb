{
  "nbformat": 4,
  "nbformat_minor": 0,
  "metadata": {
    "colab": {
      "private_outputs": true,
      "provenance": []
    },
    "kernelspec": {
      "name": "python3",
      "display_name": "Python 3"
    },
    "language_info": {
      "name": "python"
    }
  },
  "cells": [
    {
      "cell_type": "code",
      "execution_count": null,
      "metadata": {
        "id": "k6L54Pra_p9d"
      },
      "outputs": [],
      "source": [
        "# Actual Work\n",
        "# https://colab.research.google.com/drive/1wRxCw35QsZvd1Gf_pMe2TT76hcNLybBH?usp=sharing\n",
        "\n",
        "# Computing libraries\n",
        "import numpy as np\n",
        "import pandas as pd\n",
        "\n",
        "# Ploting libraries\n",
        "import matplotlib.pyplot as plt\n",
        "import seaborn as sns\n",
        "\n",
        "# Pre Processing Modules\n",
        "from sklearn.preprocessing import LabelEncoder\n",
        "from sklearn.preprocessing import StandardScaler\n",
        "from sklearn.model_selection import train_test_split"
      ]
    },
    {
      "cell_type": "code",
      "source": [
        "df = pd.read_csv('/content/sample_data/amazon.csv');\n",
        "df"
      ],
      "metadata": {
        "id": "BobgR6gXAlO4"
      },
      "execution_count": null,
      "outputs": []
    },
    {
      "cell_type": "code",
      "source": [
        "df.shape"
      ],
      "metadata": {
        "id": "Tcbz_Jc-Arsn"
      },
      "execution_count": null,
      "outputs": []
    },
    {
      "cell_type": "code",
      "source": [
        "df.columns"
      ],
      "metadata": {
        "id": "OBOCbTZlAvXC"
      },
      "execution_count": null,
      "outputs": []
    },
    {
      "cell_type": "code",
      "source": [
        "df.isnull().sum()"
      ],
      "metadata": {
        "id": "TpIZUIoAAzV0"
      },
      "execution_count": null,
      "outputs": []
    },
    {
      "cell_type": "code",
      "source": [
        "df.info()"
      ],
      "metadata": {
        "id": "JMiE3LxiA6L_"
      },
      "execution_count": null,
      "outputs": []
    },
    {
      "cell_type": "code",
      "source": [
        "df.describe()"
      ],
      "metadata": {
        "id": "i_B5D5lfBE8_"
      },
      "execution_count": null,
      "outputs": []
    },
    {
      "cell_type": "code",
      "source": [
        "plt.figure(figsize = (8, 6))\n",
        "sns.histplot(df['discounted_price'], bins=30, color = \"blue\", label = 'Discounted Price')\n",
        "sns.histplot(df['actual_price'], bins=30, color = \"red\", label = 'Actual Price')\n",
        "plt.title('Distribution of Sales')\n",
        "plt.xlabel('Price')\n",
        "plt.ylabel('Count')\n",
        "plt.legend()\n",
        "plt.show()"
      ],
      "metadata": {
        "id": "V1D2SbNZBmRm"
      },
      "execution_count": null,
      "outputs": []
    },
    {
      "cell_type": "code",
      "source": [
        "# # df['rating_count'].mean()\n",
        "# df['rating'].count().mean()\n",
        "df['rating_count'] = df['rating_count'].str.replace(',', '')\n",
        "\n",
        "df['rating_count'] = df['rating_count'].astype('float')\n",
        "df['rating_count'].mean()"
      ],
      "metadata": {
        "id": "pF04Or51WXg3"
      },
      "execution_count": null,
      "outputs": []
    },
    {
      "cell_type": "code",
      "source": [
        "df['rating'].mean()"
      ],
      "metadata": {
        "id": "ZCpfOvBMWTIH"
      },
      "execution_count": null,
      "outputs": []
    },
    {
      "cell_type": "code",
      "source": [
        "df['rating'] = df['rating'].astype('float')\n",
        "# df.sort_values(by=\"rating\", ascending=False)\n",
        "df.nlargest(20, 'rating')"
      ],
      "metadata": {
        "id": "TRyF1LLMBxwP"
      },
      "execution_count": null,
      "outputs": []
    },
    {
      "cell_type": "code",
      "source": [
        "top_prods_by_cat = df.groupby('category')['product_name'].count().nlargest(5)\n",
        "top_prods_by_cat"
      ],
      "metadata": {
        "id": "4ZbNkYi5JczT"
      },
      "execution_count": null,
      "outputs": []
    },
    {
      "cell_type": "code",
      "source": [
        "plt.figure(figsize=(8, 6))\n",
        "sns.countplot(x = 'category', data = df)\n",
        "plt.title('Distribution of Products by Category')\n",
        "plt.xlabel('Category')\n",
        "plt.ylabel('Count')\n",
        "plt.xticks(rotation=50)\n",
        "plt.show()"
      ],
      "metadata": {
        "id": "F4WiyPzjJ0IJ"
      },
      "execution_count": null,
      "outputs": []
    },
    {
      "cell_type": "code",
      "source": [
        "df.corr()"
      ],
      "metadata": {
        "id": "Y-RhsalQKYZR"
      },
      "execution_count": null,
      "outputs": []
    },
    {
      "cell_type": "code",
      "source": [
        "correlationMatrix = df[['rating', 'rating_count', 'discounted_price']].corr()\n",
        "plt.figure(figsize=(8, 6))\n",
        "sns.heatmap(correlationMatrix, annot = True, cmap = 'Pastel1')\n",
        "plt.title(\"Correlation Matrix\")\n",
        "plt.show()"
      ],
      "metadata": {
        "id": "nFdSUHncKZGQ"
      },
      "execution_count": null,
      "outputs": []
    },
    {
      "cell_type": "code",
      "source": [
        "df['discount_percentage'] = df['discount_percentage'].str[:-1].astype('float')\n",
        "avg_discount_percentage = df['discount_percentage'].mean()\n",
        "print(\"Average Discount Percentage:\", avg_discount_percentage)"
      ],
      "metadata": {
        "id": "ITTbSkGFW2nN"
      },
      "execution_count": null,
      "outputs": []
    },
    {
      "cell_type": "code",
      "source": [
        "top_rated_prods = df[df['rating'] > 4.5].nlargest(5, 'rating_count')[['product_name', 'rating', 'rating_count']]\n",
        "top_rated_prods"
      ],
      "metadata": {
        "id": "dzzfgU7dadUB"
      },
      "execution_count": null,
      "outputs": []
    },
    {
      "cell_type": "code",
      "source": [
        "plt.figure(figsize=(8, 6))\n",
        "sns.histplot(df['discount_percentage'], bins=20, color='green')\n",
        "plt.title('Distribution of Discount Percentage')\n",
        "plt.xlabel('Discount Percentage')\n",
        "plt.ylabel('Count')\n",
        "plt.show()"
      ],
      "metadata": {
        "id": "nlXsSa8zbAPX"
      },
      "execution_count": null,
      "outputs": []
    },
    {
      "cell_type": "code",
      "source": [
        "df['discount_percentage'] = df['discount_percentage'].str[:-1].astype('float')\n",
        "avg_disc_by_cat = df.groupby('category')['discount_percentage'].mean().sort_values(ascending = False)\n",
        "avg_disc_by_cat"
      ],
      "metadata": {
        "id": "C4Y8NQARbrMg"
      },
      "execution_count": null,
      "outputs": []
    },
    {
      "cell_type": "code",
      "source": [
        "plt.figure(figsize=(8, 6))\n",
        "sns.histplot(df['rating'], bins=10, color='purple')\n",
        "plt.title('Distribution of Ratings')\n",
        "plt.xlabel('Rating')\n",
        "plt.ylabel('Count')\n",
        "plt.show()"
      ],
      "metadata": {
        "id": "XtBbxtIccWhW"
      },
      "execution_count": null,
      "outputs": []
    },
    {
      "cell_type": "code",
      "source": [
        "avg_rating_by_cat = df.groupby('category')['rating'].mean().sort_values(ascending=False)\n",
        "avg_rating_by_cat"
      ],
      "metadata": {
        "id": "PGSMsuBicdqV"
      },
      "execution_count": null,
      "outputs": []
    },
    {
      "cell_type": "code",
      "source": [
        "rating_count_for_prods = df['rating_count'].value_counts().nlargest(5)\n",
        "rating_count_for_prods"
      ],
      "metadata": {
        "id": "xClbKHXIcmV9"
      },
      "execution_count": null,
      "outputs": []
    },
    {
      "cell_type": "code",
      "source": [
        "plt.figure(figsize=(8, 6))\n",
        "sns.countplot(x='rating', data=df, palette='Blues_r')\n",
        "plt.title('Distribution of User Ratings')\n",
        "plt.xlabel('Rating')\n",
        "plt.ylabel('Count')\n",
        "plt.show()"
      ],
      "metadata": {
        "id": "zW8hlQe2c6At"
      },
      "execution_count": null,
      "outputs": []
    },
    {
      "cell_type": "code",
      "source": [
        "top_rated_disc_prods = df[df['rating'] > 4.5].nlargest(5, 'discount_percentage')[['product_name', 'rating', 'discount_percentage']]\n",
        "top_rated_disc_prods"
      ],
      "metadata": {
        "id": "F--3nxxsdBtd"
      },
      "execution_count": null,
      "outputs": []
    },
    {
      "cell_type": "code",
      "source": [
        "df['discounted_price'] = df['discounted_price'].str.replace('₹', '').str.replace(',', '').astype('float')\n",
        "avg_disc_price_by_cat = df.groupby('category')['discounted_price'].mean().sort_values(ascending=False)\n",
        "avg_disc_price_by_cat"
      ],
      "metadata": {
        "id": "WHkLFbZ6d-OL"
      },
      "execution_count": null,
      "outputs": []
    }
  ]
}